{
 "cells": [
  {
   "cell_type": "code",
   "execution_count": 1,
   "id": "2d19d865",
   "metadata": {},
   "outputs": [
    {
     "name": "stdout",
     "output_type": "stream",
     "text": [
      "Enter a numner:150\n",
      "Two High\n",
      "Enter a numner:80\n",
      "Two High\n",
      "Enter a numner:70\n",
      "Two High\n",
      "Enter a numner:60\n",
      "Two High\n",
      "Enter a numner:50\n",
      "Two High\n",
      "Enter a numner:40\n",
      "Two High\n",
      "Enter a numner:30\n",
      "Two High\n",
      "Enter a numner:20\n",
      "Two High\n",
      "Enter a numner:10\n",
      "Two High\n",
      "Enter a numner:9\n",
      "Two High\n",
      "Enter a numner:8\n",
      "Two High\n",
      "Enter a numner:7\n",
      "Two High\n",
      "Enter a numner:6\n",
      "Two High\n",
      "Enter a numner:4\n",
      "Too low\n",
      "Enter a numner:5\n",
      "your guess is correct\n"
     ]
    }
   ],
   "source": [
    "#Task 1\n",
    "\n",
    "import random\n",
    "a=random.randint(1,100)\n",
    "while True:\n",
    "    try:\n",
    "        guess=int(input(\"Enter a numner:\"))\n",
    "        if(guess==a):\n",
    "            print(\"your guess is correct\")\n",
    "            break\n",
    "        elif(guess<a):\n",
    "            print(\"Too low\")\n",
    "        else:\n",
    "            print(\"Two High\")\n",
    "    except ValueError:\n",
    "            print(\"Invalid input\")"
   ]
  },
  {
   "cell_type": "code",
   "execution_count": 2,
   "id": "364ffdf8",
   "metadata": {},
   "outputs": [
    {
     "name": "stdout",
     "output_type": "stream",
     "text": [
      "Enter a minimum number:2\n",
      "Enter a maximum number:5\n",
      "guess a number between 2 and 5:3\n",
      "Your guess is correct\n"
     ]
    }
   ],
   "source": [
    "#Task 2\n",
    "\n",
    "import random\n",
    "min_num=int(input(\"Enter a minimum number:\"))\n",
    "max_num=int(input(\"Enter a maximum number:\"))\n",
    "a=random.randint(min_num,max_num)\n",
    "while True:\n",
    "    try:\n",
    "        guess=int(input(f\"guess a number between {min_num} and {max_num}:\"))\n",
    "        if guess==a:\n",
    "            print(\"Your guess is correct\")\n",
    "            break\n",
    "        elif guess<a:\n",
    "            print(\"Too low\")\n",
    "        else:\n",
    "            print(\"Too High\")\n",
    "    except ValueError:\n",
    "        print(f\"Invalid number\")"
   ]
  },
  {
   "cell_type": "code",
   "execution_count": 3,
   "id": "3868ee46",
   "metadata": {},
   "outputs": [
    {
     "name": "stdout",
     "output_type": "stream",
     "text": [
      "Enter password:Ganesh1@gmail.com\n",
      "strong password\n"
     ]
    }
   ],
   "source": [
    "#Task 3\n",
    "\n",
    "import re\n",
    "def password_strength(password):\n",
    "    if len(password)<8:\n",
    "        return(\"Weak password it should contain atleast 8 characters\")\n",
    "    if not any(a.isdigit() for a in password):\n",
    "        return(\"weak password it should contain atleast 1 digit\")\n",
    "    if not any(a.islower() for a in password):\n",
    "        return(\"weak password it should contain atleast 1 lower case letter\")\n",
    "    if not any(a.isupper() for a in password):\n",
    "        return(\"weak password it should contain atleast 1 upper case letter\")\n",
    "    if not re.search(r'[(){}\\\\//<>;:*&^%$#@!]',password):\n",
    "        return(\"weak password it should contain atleast one special character\")\n",
    "    return(\"strong password\")\n",
    "password=input(\"Enter password:\")\n",
    "result=password_strength(password)\n",
    "print(result)"
   ]
  },
  {
   "cell_type": "code",
   "execution_count": 3,
   "id": "d9ee21c2",
   "metadata": {},
   "outputs": [
    {
     "name": "stdout",
     "output_type": "stream",
     "text": [
      "Enter a number:5\n",
      "Fibonacci sequence is:\n",
      "0\n",
      "1\n",
      "1\n",
      "2\n",
      "3\n"
     ]
    }
   ],
   "source": [
    "#Task 4\n",
    "\n",
    "def recur_fibonacci(n):\n",
    "    if n<=1:\n",
    "        return n\n",
    "    else:\n",
    "        return(recur_fibonacci(n-1)+recur_fibonacci(n-2))\n",
    "m=int(input(\"Enter a number:\"))\n",
    "if m<=0:\n",
    "    print(\"Enter a positive no.\")\n",
    "else:\n",
    "    print(\"Fibonacci sequence is:\")\n",
    "    for i in range(m):\n",
    "        print(recur_fibonacci(i))"
   ]
  },
  {
   "cell_type": "code",
   "execution_count": 2,
   "id": "4183fc1d",
   "metadata": {},
   "outputs": [
    {
     "name": "stdout",
     "output_type": "stream",
     "text": [
      "hai: 1\n",
      "iam: 1\n",
      "r.rajashekar: 1\n"
     ]
    }
   ],
   "source": [
    "#Task5\n",
    "\n",
    "def word_count_occur(file_path):\n",
    "    word_count = {}\n",
    "    with open(file_path, 'r') as file:\n",
    "        text = file.read()\n",
    "    words = text.split()\n",
    "    for word in words:\n",
    "        word = word.strip('.,!?\":;()[]{}')\n",
    "        word = word.lower()\n",
    "        if word in word_count:\n",
    "            word_count[word] += 1\n",
    "        else:\n",
    "            word_count[word] = 1\n",
    "    return word_count\n",
    "def display_word_counts(word_count):\n",
    "    for word in sorted(word_count.keys()):\n",
    "        print(f\"{word}: {word_count[word]}\")\n",
    "def main():\n",
    "    file_path = \"C:/Users/R. RAJASHEKAR/Downloads/Cognifyz Internship/Level-2/new.txt\"  # Replace with file path\n",
    "\n",
    "    word_count = word_count_occur(file_path)\n",
    "    display_word_counts(word_count)\n",
    "\n",
    "if __name__ == \"__main__\":\n",
    "    main()"
   ]
  },
  {
   "cell_type": "code",
   "execution_count": null,
   "id": "326e17b3",
   "metadata": {},
   "outputs": [],
   "source": []
  }
 ],
 "metadata": {
  "kernelspec": {
   "display_name": "Python 3 (ipykernel)",
   "language": "python",
   "name": "python3"
  },
  "language_info": {
   "codemirror_mode": {
    "name": "ipython",
    "version": 3
   },
   "file_extension": ".py",
   "mimetype": "text/x-python",
   "name": "python",
   "nbconvert_exporter": "python",
   "pygments_lexer": "ipython3",
   "version": "3.9.13"
  }
 },
 "nbformat": 4,
 "nbformat_minor": 5
}
