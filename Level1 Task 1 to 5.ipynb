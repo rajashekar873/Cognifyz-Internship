{
 "cells": [
  {
   "cell_type": "code",
   "execution_count": 5,
   "id": "9f1e3fe4",
   "metadata": {},
   "outputs": [
    {
     "name": "stdout",
     "output_type": "stream",
     "text": [
      "hello\n",
      "olleh\n"
     ]
    }
   ],
   "source": [
    "#Task 1\n",
    "\n",
    "def reverse(m):\n",
    "    x=m[::-1]\n",
    "    return x\n",
    "m=str(input('Please Enter a string:'))\n",
    "print(\"Reverse of a \")\n",
    "print(reverse(m))"
   ]
  },
  {
   "cell_type": "code",
   "execution_count": 1,
   "id": "e5f5ca2b",
   "metadata": {},
   "outputs": [
    {
     "name": "stdout",
     "output_type": "stream",
     "text": [
      "enter a number:37\n",
      "please enter the unit of measurement:c\n",
      "The converted fahrenheit temperature of given celsius temp: 98.6\n"
     ]
    }
   ],
   "source": [
    "##Task2\n",
    "\n",
    "m=float(input('enter a number:'))\n",
    "s=input('please enter the unit of measurement:')\n",
    "tc=((m-32)*5)/9\n",
    "tf=(((9*m)/5)+32)\n",
    "if s=='c':\n",
    "    print('The converted fahrenheit temperature of given celsius temp:',tf)\n",
    "elif s=='f':\n",
    "    print('The converted celsius temperature of given fahrenheit tempertaure: ',tc)\n",
    "else:\n",
    "    print('Please enter a valid unit of measurement')"
   ]
  },
  {
   "cell_type": "code",
   "execution_count": 2,
   "id": "d0c69112",
   "metadata": {},
   "outputs": [
    {
     "name": "stdout",
     "output_type": "stream",
     "text": [
      "Enter an email id:ganesh@gmail.com\n",
      "True\n"
     ]
    }
   ],
   "source": [
    "#Task3\n",
    "\n",
    "import re\n",
    "def is_valid_email(email):\n",
    "    email_pattern = r\"^[a-z]+@[gmail.com]\"\n",
    "    if re.match(email_pattern, email):\n",
    "        return True\n",
    "    else:\n",
    "        return False\n",
    "email=str(input(\"Enter an email id:\"))\n",
    "ans=is_valid_email(email)\n",
    "print(ans)"
   ]
  },
  {
   "cell_type": "code",
   "execution_count": 3,
   "id": "e62527c5",
   "metadata": {},
   "outputs": [
    {
     "name": "stdout",
     "output_type": "stream",
     "text": [
      "Enter the first number:5\n",
      "Enter the second number:4\n",
      "enter an operator:+\n",
      "The result of m+n is: 9\n"
     ]
    }
   ],
   "source": [
    "#Task4\n",
    "\n",
    "m=int(input('Enter the first number:'))\n",
    "n=int(input('Enter the second number:'))\n",
    "z=input('enter an operator:')\n",
    "if z=='+':\n",
    "    print('The result of m+n is:',m+n)\n",
    "elif z=='-':\n",
    "    print('The result of m-n is:',m-n)\n",
    "elif z=='*':\n",
    "    print('The result of m*n is:',m*n)\n",
    "elif z=='/':\n",
    "    print('The result of m/n is:',m/n)\n",
    "elif z=='%':\n",
    "    print('The result of m%n is:',m%n)\n",
    "else:\n",
    "    print('Enter the valid operator')"
   ]
  },
  {
   "cell_type": "code",
   "execution_count": 5,
   "id": "b2676910",
   "metadata": {},
   "outputs": [
    {
     "name": "stdout",
     "output_type": "stream",
     "text": [
      "Enter a String:madam\n",
      "Yes it is Palindrome\n"
     ]
    }
   ],
   "source": [
    "#Task5\n",
    "\n",
    "def pal(m):\n",
    "    return m==m[::-1]\n",
    "m=str(input(\"Enter a String:\"))\n",
    "x=pal(m)\n",
    "if x:\n",
    "    print(\"Yes it is Palindrome\")\n",
    "else:\n",
    "    print(\"No it is not a palindrome\")"
   ]
  },
  {
   "cell_type": "code",
   "execution_count": null,
   "id": "6ac7ff6f",
   "metadata": {},
   "outputs": [],
   "source": []
  }
 ],
 "metadata": {
  "kernelspec": {
   "display_name": "Python 3 (ipykernel)",
   "language": "python",
   "name": "python3"
  },
  "language_info": {
   "codemirror_mode": {
    "name": "ipython",
    "version": 3
   },
   "file_extension": ".py",
   "mimetype": "text/x-python",
   "name": "python",
   "nbconvert_exporter": "python",
   "pygments_lexer": "ipython3",
   "version": "3.9.13"
  }
 },
 "nbformat": 4,
 "nbformat_minor": 5
}
